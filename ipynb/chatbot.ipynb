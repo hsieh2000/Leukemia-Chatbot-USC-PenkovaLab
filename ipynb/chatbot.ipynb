{
 "cells": [
  {
   "cell_type": "code",
   "execution_count": 1,
   "metadata": {},
   "outputs": [
    {
     "name": "stderr",
     "output_type": "stream",
     "text": [
      "/Users/jeremyhsieh/Documents/USC Course/Penkova Lab/lib/python3.12/site-packages/tqdm/auto.py:21: TqdmWarning: IProgress not found. Please update jupyter and ipywidgets. See https://ipywidgets.readthedocs.io/en/stable/user_install.html\n",
      "  from .autonotebook import tqdm as notebook_tqdm\n"
     ]
    }
   ],
   "source": [
    "from langchain.memory import ConversationBufferMemory\n",
    "from langchain_openai import ChatOpenAI\n",
    "from langchain.chains import ConversationChain\n",
    "from langchain_huggingface import HuggingFaceEmbeddings\n",
    "from sentence_transformers import SentenceTransformer\n",
    "from langchain_chroma import Chroma\n",
    "from langchain_core.documents import Document\n",
    "from langchain.prompts import (\n",
    "    ChatPromptTemplate,\n",
    "    MessagesPlaceholder,\n",
    "    SystemMessagePromptTemplate,\n",
    "    HumanMessagePromptTemplate,\n",
    ")\n",
    "import torch\n",
    "from uuid import uuid4\n",
    "import os\n"
   ]
  },
  {
   "cell_type": "code",
   "execution_count": 2,
   "metadata": {},
   "outputs": [
    {
     "name": "stdout",
     "output_type": "stream",
     "text": [
      "MPS backend is available! 🚀\n"
     ]
    }
   ],
   "source": [
    "if torch.backends.mps.is_available():\n",
    "    print(\"MPS backend is available! 🚀\")\n",
    "else:\n",
    "    print(\"MPS backend is not available. 😢\")"
   ]
  },
  {
   "cell_type": "code",
   "execution_count": 3,
   "metadata": {},
   "outputs": [
    {
     "name": "stdout",
     "output_type": "stream",
     "text": [
      "/Users/jeremyhsieh/.cache/huggingface/hub\n"
     ]
    }
   ],
   "source": [
    "# check default path of model storage\n",
    "from transformers.utils import default_cache_path\n",
    "print(default_cache_path)"
   ]
  },
  {
   "cell_type": "code",
   "execution_count": 4,
   "metadata": {},
   "outputs": [],
   "source": [
    "def path_check(path):\n",
    "    if not os.path.exists(path):\n",
    "        os.mkdir(path)\n",
    "    return path"
   ]
  },
  {
   "cell_type": "code",
   "execution_count": null,
   "metadata": {},
   "outputs": [
    {
     "name": "stdout",
     "output_type": "stream",
     "text": [
      "Embedding vector size: 384\n"
     ]
    }
   ],
   "source": [
    "device = \"mps\" if torch.backends.mps.is_available() else \"cpu\"\n",
    "\n",
    "model_name = \"sentence-transformers/all-MiniLM-L6-v2\"\n",
    "model_kwargs = {'device': 'mps'}\n",
    "encode_kwargs = {'normalize_embeddings': False}\n",
    "embeddings = HuggingFaceEmbeddings(\n",
    "    model_name=model_name,\n",
    "    model_kwargs=model_kwargs,\n",
    "    encode_kwargs=encode_kwargs,\n",
    "    cache_folder = path_check(\"../model\")\n",
    ")\n",
    "\n",
    "text = \"Hello, how are you?\"\n",
    "embedding_vector = embeddings.embed_query(text)\n",
    "print(f\"Embedding vector size: {len(embedding_vector)}\")\n"
   ]
  },
  {
   "cell_type": "code",
   "execution_count": 14,
   "metadata": {},
   "outputs": [],
   "source": [
    "vector_store = Chroma(\n",
    "    collection_name=\"leukemia_info\",\n",
    "    embedding_function=embeddings,\n",
    "    persist_directory=path_check(\"../chroma_langchain_db\"),  # Where to save data locally, remove if not necessary\n",
    ")"
   ]
  },
  {
   "cell_type": "code",
   "execution_count": null,
   "metadata": {},
   "outputs": [
    {
     "name": "stderr",
     "output_type": "stream",
     "text": [
      "Delete of nonexisting embedding ID: 1\n",
      "Delete of nonexisting embedding ID: 2\n",
      "Delete of nonexisting embedding ID: 3\n",
      "Delete of nonexisting embedding ID: 4\n",
      "Delete of nonexisting embedding ID: 5\n",
      "Delete of nonexisting embedding ID: 6\n",
      "Delete of nonexisting embedding ID: 1\n",
      "Delete of nonexisting embedding ID: 2\n",
      "Delete of nonexisting embedding ID: 3\n",
      "Delete of nonexisting embedding ID: 4\n",
      "Delete of nonexisting embedding ID: 5\n",
      "Delete of nonexisting embedding ID: 6\n"
     ]
    }
   ],
   "source": [
    "# vector_store._collection.delete(ids=['1','2','3','4','5','6'])"
   ]
  },
  {
   "cell_type": "code",
   "execution_count": 15,
   "metadata": {},
   "outputs": [],
   "source": [
    "document_1 = Document(\n",
    "    page_content = '''\n",
    "        Conjunctiva involvement, although not a common presentation of leukemias, occurs most often in\n",
    "        patients with lymphocytic leukaemias.6.Cellular involvement is found at all levels of the substantia propria and can be diffuse or patchy, tending to concentrate along blood vessels.7 Comma-shaped\n",
    "        venial abnormalities (cork screw vessels similar to\n",
    "        those found in sickle cell disease) have also been reported. These are believed to be secondary to hyperviscosity.8 ALL has been reported to present as conjunctival lymphoma in adults.9 Lei et al described an unusual occurrence of bilateral conjunctival tumours\n",
    "        in a 25-year-old woman. This was the first sign of relapse of ALL.\n",
    "    ''',\n",
    "    metadata={\"ophthalmic_involvement\": \"Conjunctiva\", \"disease\": \"leukemia\"},\n",
    "    id=1,\n",
    ")\n",
    "\n",
    "document_2 = Document(\n",
    "    page_content = '''\n",
    "        The cornea is an avascular structure and therefore is not commonly involved in leukaemia, especially in the form of direct invasion by leukaemic cells. Allen and Straatsma's series reported no corneal involvement beyond limbal infiltration.7\n",
    "        Sterile ring ulcers with iritis and pannus have been reported in leukaemias.11 Keratitis can occur secondary to immunosuppression or graft-versus-host disease (GVHD). Keratitis in a patient with GVHD can cause severe thining of cornea, threatening corneal perforation.12 Corneal involvement is also seen when corneal epithelial changes result secondary to chemotherapy.13 These changes include thinning irregularity, faulty maturation, and keratinisation. Peripheral corneal ulceration has also been reported in a patient with leukaemia and herpes zoster ophthalmicus.14\n",
    "        Scleral infiltration is usually an autopsy finding and occurs in acute leukaemia. These cells are most often found in the episclera in a perivascular pattern.7\n",
    "        ''',\n",
    "    metadata={\"ophthalmic_involvement\": \"Cornea and sclera\", \"disease\": \"leukemia\"},\n",
    "    id=2,\n",
    ")\n",
    "\n",
    "document_3 = Document(\n",
    "    page_content ='''\n",
    "        Clinically evident infiltration of the iris by leukaemic cells is not common. \n",
    "        It occurs with the involvement of choroid and ciliary body. \n",
    "        Clinically, it is characterised by a change in iris colour, and a pseudohypopyon, which is grey/yellow in colour.15 \n",
    "        On histopathological examination, the iris may show diffuse involvement, especially at the root and sphincter.7 \n",
    "        The intra-ocular pressure (IOP) can be high enough to cause signs and symptoms of acute glaucoma with normal depth of anterior chamber.16 \n",
    "        It is postulated that the raised IOP is probably due to infiltration of the trabecular meshwork.17 In children, spontaneous hyphaema is also a presentation of leukaemia.15 \n",
    "        Usually clinically apparent involvement of the iris and anterior segment occurs with ALL.17, 18 It may also occur less commonly with CLL19 and myeloid leukaemias.15 \n",
    "        Extramedullary relapse of acute leukaemias may masquerade as hypopyon uveitis.20 \n",
    "        Primary relapse of acute leukaemia in the anterior segment is not uncommon.20, 21, 22, 23 \n",
    "        Leukaemias have been identified as the cause of uveitis in 5% of paediatric uveitis cases.23 \n",
    "        Ocular involvement is unusual in acute non-lymphoblastic leukaemia, \n",
    "        however, one case was reported where an infant who had evidence of active central nervous system disease showed infiltration of the anterior chamber during therapy. \n",
    "        Treatment was with topical corticosteroids, chemotherapy, and bilateral ocular radiotherapy.24 Any ophthalmic manifestation in children with leukaemia should be detected and treated early. \n",
    "        Radiotherapy is warranted in infiltration of the anterior chamber. The presence of ocular or CNS involvement indicates poor prognosis in acute childhood leukaemia.\n",
    "        ''',\n",
    "    metadata={\"ophthalmic_involvement\": \"Iris and anterior segment\", \"disease\": \"leukemia\"},\n",
    "    id=3,\n",
    ")\n",
    "\n",
    "document_4 = Document(\n",
    "    page_content = '''\n",
    "Choroid shows leukaemic infiltration most consistently on histopathological examination, though clinically the retina is most commonly involved in leukaemia.7.\n",
    "        The involvement of choroid by leukaemic cells tends to be perivascular, and may be patchy or diffuse.7 \n",
    "        Choroid may be thickened to many times normal at the posterior pole. \n",
    "        The overlying retinal pigment epithelium (RPE) may show secondary alterations, including atrophy and hypertrophy. \n",
    "        There may be secondary photoreceptor cell loss, drusen formation or serous detachment. \n",
    "        Clinically, choroidal involvement presents as a serous retinal detachment, which is generally shallow, and located at the posterior pole. \n",
    "        These detachments have been reported in CLL25, ALL26, 27, CML28 and AML.29\n",
    "    ''',\n",
    "    metadata={\"ophthalmic_involvement\": \"Choroid\", \"disease\": \"leukemia\"},\n",
    "    id=4,\n",
    ")\n",
    "\n",
    "document_5 = Document(\n",
    "    page_content = '''\n",
    "        The retina is involved in leukaemia more often than any other ocular tissue. \n",
    "        It is estimated that up to 69% of all patients with leukaemia show fundus changes at some point in the course of their disease, \n",
    "        although at that time no effective treatments were present.30 The early manifestations (because of haematological disturbance)\n",
    "        are venous dilatation and tortuosity.31 Haemorrhages may occur in all levels of the retina, usually in the posterior pole, \n",
    "        and may extend into the vitreous. They may be round or flame shaped, and often has a white component. The white area consists \n",
    "        of leukaemic cells and debris, platelet-fibrin aggregates, or septic emboli. A similar clinical picture can be seen in severe \n",
    "        anaemia (Figure 1), thrombocytopenia, and hyperviscosity. Histopathological examination shows discrete and diffuse haemorrhage \n",
    "        and leukaemic infiltration.7 The haemorrhages and infiltrates are found at all levels of the retina, but especially in the inner \n",
    "        layers with focal destruction. The infiltrates and aggregates of leukaemic cells are usually but not always seen with surrounding \n",
    "        haemorrhage.32 Large leukaemic infiltrates can cause total retinal detachment that may present as an isolated relapse.33 Smaller \n",
    "        infiltrates tend to be perivascular. Subretinal infiltration in leukaemia has been referred as subretinal hypopyon.34 Cotton wool \n",
    "        spots can be seen and are probably due to ischaemia from anaemia, hyperviscosity, or leukaemic infiltration.\n",
    "        ''',\n",
    "    metadata={\"ophthalmic_involvement\": \"Retina\", \"disease\": \"leukemia\"},\n",
    "    id=5,\n",
    ")\n",
    "\n",
    "document_6 = Document(\n",
    "    page_content = '''\n",
    "        Immune Response: When your body fights a cold, it triggers an immune response that can lead to inflammation in various parts of your body, including your eyes. \n",
    "        Viral Conjunctivitis (Pink Eye): A cold can sometimes cause viral conjunctivitis, also known as pink eye, which can lead to red, itchy, and watery eyes. \n",
    "        Nasal Congestion: Nasal congestion can also contribute to watery eyes, as the nasal passages and eyes are connected. \n",
    "        ''',\n",
    "    metadata={\"ophthalmic_involvement\": \"Redness and Watery Eyes\", \"disease\": \"cold\"},\n",
    "    id=6,\n",
    ")\n"
   ]
  },
  {
   "cell_type": "code",
   "execution_count": 16,
   "metadata": {},
   "outputs": [
    {
     "data": {
      "text/plain": [
       "['6d7fda27-d05c-4d23-9567-1f51ec0de7b6',\n",
       " 'e7785e1d-9fd5-485c-a8f3-558d894aeb69',\n",
       " '6952bbd0-4a6c-4ba4-834a-fb1f7dcff0cd',\n",
       " '190a58b8-e4c5-4a25-a827-211afacef337',\n",
       " 'da09aa61-8041-4732-93b6-438b887d2602',\n",
       " 'f7a93fec-2606-4712-be7b-77c917868ffa']"
      ]
     },
     "execution_count": 16,
     "metadata": {},
     "output_type": "execute_result"
    }
   ],
   "source": [
    "documents = [\n",
    "    document_1,\n",
    "    document_2,\n",
    "    document_3,\n",
    "    document_4,\n",
    "    document_5,\n",
    "    document_6,\n",
    "]\n",
    "uuids = [str(uuid4()) for _ in range(len(documents))]\n",
    "\n",
    "vector_store.add_documents(documents=documents, ids=uuids)"
   ]
  },
  {
   "cell_type": "code",
   "execution_count": 17,
   "metadata": {},
   "outputs": [
    {
     "name": "stdout",
     "output_type": "stream",
     "text": [
      "* \n",
      "        The retina is involved in leukaemia more often than any other ocular tissue. \n",
      "        It is estimated that up to 69% of all patients with leukaemia show fundus changes at some point in the course of their disease, \n",
      "        although at that time no effective treatments were present.30 The early manifestations (because of haematological disturbance)\n",
      "        are venous dilatation and tortuosity.31 Haemorrhages may occur in all levels of the retina, usually in the posterior pole, \n",
      "        and may extend into the vitreous. They may be round or flame shaped, and often has a white component. The white area consists \n",
      "        of leukaemic cells and debris, platelet-fibrin aggregates, or septic emboli. A similar clinical picture can be seen in severe \n",
      "        anaemia (Figure 1), thrombocytopenia, and hyperviscosity. Histopathological examination shows discrete and diffuse haemorrhage \n",
      "        and leukaemic infiltration.7 The haemorrhages and infiltrates are found at all levels of the retina, but especially in the inner \n",
      "        layers with focal destruction. The infiltrates and aggregates of leukaemic cells are usually but not always seen with surrounding \n",
      "        haemorrhage.32 Large leukaemic infiltrates can cause total retinal detachment that may present as an isolated relapse.33 Smaller \n",
      "        infiltrates tend to be perivascular. Subretinal infiltration in leukaemia has been referred as subretinal hypopyon.34 Cotton wool \n",
      "        spots can be seen and are probably due to ischaemia from anaemia, hyperviscosity, or leukaemic infiltration.\n",
      "         [{'disease': 'leukemia', 'ophthalmic_involvement': 'Retina'}]\n",
      "* \n",
      "        The retina is involved in leukaemia more often than any other ocular tissue. \n",
      "        It is estimated that up to 69% of all patients with leukaemia show fundus changes at some point in the course of their disease, \n",
      "        although at that time no effective treatments were present.30 The early manifestations (because of haematological disturbance)\n",
      "        are venous dilatation and tortuosity.31 Haemorrhages may occur in all levels of the retina, usually in the posterior pole, \n",
      "        and may extend into the vitreous. They may be round or flame shaped, and often has a white component. The white area consists \n",
      "        of leukaemic cells and debris, platelet-fibrin aggregates, or septic emboli. A similar clinical picture can be seen in severe \n",
      "        anaemia (Figure 1), thrombocytopenia, and hyperviscosity. Histopathological examination shows discrete and diffuse haemorrhage \n",
      "        and leukaemic infiltration.7 The haemorrhages and infiltrates are found at all levels of the retina, but especially in the inner \n",
      "        layers with focal destruction. The infiltrates and aggregates of leukaemic cells are usually but not always seen with surrounding \n",
      "        haemorrhage.32 Large leukaemic infiltrates can cause total retinal detachment that may present as an isolated relapse.33 Smaller \n",
      "        infiltrates tend to be perivascular. Subretinal infiltration in leukaemia has been referred as subretinal hypopyon.34 Cotton wool \n",
      "        spots can be seen and are probably due to ischaemia from anaemia, hyperviscosity, or leukaemic infiltration.\n",
      "         [{'disease': 'leukemia', 'ophthalmic_involvement': 'Retina'}]\n",
      "* \n",
      "        The retina is involved in leukaemia more often than any other ocular tissue. \n",
      "        It is estimated that up to 69% of all patients with leukaemia show fundus changes at some point in the course of their disease, \n",
      "        although at that time no effective treatments were present.30 The early manifestations (because of haematological disturbance)\n",
      "        are venous dilatation and tortuosity.31 Haemorrhages may occur in all levels of the retina, usually in the posterior pole, \n",
      "        and may extend into the vitreous. They may be round or flame shaped, and often has a white component. The white area consists \n",
      "        of leukaemic cells and debris, platelet-fibrin aggregates, or septic emboli. A similar clinical picture can be seen in severe \n",
      "        anaemia (Figure 1), thrombocytopenia, and hyperviscosity. Histopathological examination shows discrete and diffuse haemorrhage \n",
      "        and leukaemic infiltration.7 The haemorrhages and infiltrates are found at all levels of the retina, but especially in the inner \n",
      "        layers with focal destruction. The infiltrates and aggregates of leukaemic cells are usually but not always seen with surrounding \n",
      "        haemorrhage.32 Large leukaemic infiltrates can cause total retinal detachment that may present as an isolated relapse.33 Smaller \n",
      "        infiltrates tend to be perivascular. Subretinal infiltration in leukaemia has been referred as subretinal hypopyon.34 Cotton wool \n",
      "        spots can be seen and are probably due to ischaemia from anaemia, hyperviscosity, or leukaemic infiltration.\n",
      "         [{'disease': 'leukemia', 'ophthalmic_involvement': 'Retina'}]\n"
     ]
    }
   ],
   "source": [
    "results = vector_store.similarity_search(\n",
    "    \"Does Retinopathy associated with leukemia typically occur in acute disease.\",\n",
    "    k=3,\n",
    "    # filter={\"source\": \"tweet\"},\n",
    ")\n",
    "for res in results:\n",
    "    print(f\"* {res.page_content} [{res.metadata}]\")"
   ]
  },
  {
   "cell_type": "code",
   "execution_count": 18,
   "metadata": {},
   "outputs": [
    {
     "name": "stderr",
     "output_type": "stream",
     "text": [
      "/var/folders/vy/qg2xs8zs2wvcchmgz5ttrvg40000gn/T/ipykernel_43895/435293806.py:43: LangChainDeprecationWarning: Please see the migration guide at: https://python.langchain.com/docs/versions/migrating_memory/\n",
      "  memory = ConversationBufferMemory(return_messages=True)\n",
      "/var/folders/vy/qg2xs8zs2wvcchmgz5ttrvg40000gn/T/ipykernel_43895/435293806.py:30: LangChainDeprecationWarning: The class `ConversationChain` was deprecated in LangChain 0.2.7 and will be removed in 1.0. Use :meth:`~RunnableWithMessageHistory: https://python.langchain.com/v0.2/api_reference/core/runnables/langchain_core.runnables.history.RunnableWithMessageHistory.html` instead.\n",
      "  conversation = ConversationChain(\n"
     ]
    },
    {
     "name": "stdout",
     "output_type": "stream",
     "text": [
      "\n",
      "Chatbot: Retinopathy associated with leukemia is more common in patients with the disease, especially during acute phases. Approximately 69% of leukemia patients exhibit changes in the retina at some point, with early signs including venous dilatation and tortuosity. Hemorrhages can occur at various levels of the retina, particularly in the posterior pole, and may extend into the vitreous. These hemorrhages are often accompanied by leukaemic cells and debris, and can lead to significant retinal issues, including total retinal detachment in severe cases. Thus, retinopathy related to leukemia is typically observed in acute disease settings.\n",
      "Good Bye~\n"
     ]
    }
   ],
   "source": [
    "class CustomRetrievalChain():\n",
    "    def __init__(self, llm, vector_store, memory, top_k: int = 3):\n",
    "        self.llm = llm\n",
    "        self.vector_store = vector_store\n",
    "        self.memory = memory\n",
    "        self.top_k = top_k\n",
    "        self.system_template = '''summarize info and use info to answer user's question'''\n",
    "\n",
    "    def run(self) -> str:\n",
    "        while True:\n",
    "            user_input = input(\"\\nUser: \")\n",
    "\n",
    "            if user_input.lower() == 'exit':\n",
    "                self.memory.clear()  \n",
    "                print(\"Good Bye~\")\n",
    "                break\n",
    "\n",
    "            related_docs = self.vector_store.similarity_search(query=user_input, k=self.top_k)\n",
    "            retrieved_texts = \"\\n\".join([doc.page_content for doc in related_docs])\n",
    "            \n",
    "            full_input = f\"User input:{user_input}\\nInfo:\\n{retrieved_texts}\"\n",
    "            \n",
    "            prompt = ChatPromptTemplate.from_messages([\n",
    "                SystemMessagePromptTemplate.from_template(self.system_template),\n",
    "                MessagesPlaceholder(variable_name=\"history\"),\n",
    "                HumanMessagePromptTemplate.from_template(\"{formatted_input}\")\n",
    "                ]\n",
    "            )\n",
    "\n",
    "            conversation = ConversationChain(\n",
    "                memory=self.memory,\n",
    "                prompt=prompt,\n",
    "                llm=self.llm,\n",
    "                verbose=False,\n",
    "                input_key=\"formatted_input\" \n",
    "            )\n",
    "\n",
    "            response = conversation.predict(formatted_input=full_input)\n",
    "            print(f\"\\nChatbot: {response}\")\n",
    "\n",
    "\n",
    "llm = ChatOpenAI(temperature=0.7, model_name=\"gpt-4o-mini\", api_key = \"YOUR_API_KEY\")\n",
    "memory = ConversationBufferMemory(return_messages=True)\n",
    "vector_store = Chroma(\n",
    "    collection_name=\"leukemia_info\",\n",
    "    embedding_function=embeddings,\n",
    "    persist_directory=path_check(\"../chroma_langchain_db\"),  # Where to save data locally\n",
    ")\n",
    "\n",
    "retrieval_chain = CustomRetrievalChain(llm, vector_store, memory, 3)\n",
    "retrieval_chain.run()\n"
   ]
  },
  {
   "cell_type": "code",
   "execution_count": null,
   "metadata": {},
   "outputs": [],
   "source": []
  }
 ],
 "metadata": {
  "kernelspec": {
   "display_name": "Penkova Lab",
   "language": "python",
   "name": "python3"
  },
  "language_info": {
   "codemirror_mode": {
    "name": "ipython",
    "version": 3
   },
   "file_extension": ".py",
   "mimetype": "text/x-python",
   "name": "python",
   "nbconvert_exporter": "python",
   "pygments_lexer": "ipython3",
   "version": "3.12.7"
  }
 },
 "nbformat": 4,
 "nbformat_minor": 2
}
